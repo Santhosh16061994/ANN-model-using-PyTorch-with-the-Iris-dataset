{
 "cells": [
  {
   "cell_type": "markdown",
   "metadata": {},
   "source": [
    "# Demonstration of pytorch\n"
   ]
  },
  {
   "cell_type": "code",
   "execution_count": 1,
   "metadata": {},
   "outputs": [],
   "source": [
    "import numpy as np\n",
    "import pandas as pd\n",
    "import matplotlib.pyplot as plt\n",
    "\n",
    "from sklearn.datasets import load_iris\n",
    "from sklearn.model_selection import train_test_split\n",
    "from sklearn.preprocessing import StandardScaler"
   ]
  },
  {
   "cell_type": "code",
   "execution_count": 2,
   "metadata": {},
   "outputs": [],
   "source": [
    "iris = load_iris()\n",
    "\n",
    "X = iris['data']\n",
    "y = iris['target']"
   ]
  },
  {
   "cell_type": "code",
   "execution_count": 3,
   "metadata": {},
   "outputs": [],
   "source": [
    "names = iris['target_names']\n",
    "feature_names = iris['feature_names']\n"
   ]
  },
  {
   "cell_type": "code",
   "execution_count": 4,
   "metadata": {},
   "outputs": [
    {
     "data": {
      "text/plain": [
       "['sepal length (cm)',\n",
       " 'sepal width (cm)',\n",
       " 'petal length (cm)',\n",
       " 'petal width (cm)']"
      ]
     },
     "execution_count": 4,
     "metadata": {},
     "output_type": "execute_result"
    }
   ],
   "source": [
    "feature_names"
   ]
  },
  {
   "cell_type": "code",
   "execution_count": 5,
   "metadata": {},
   "outputs": [
    {
     "data": {
      "text/plain": [
       "array(['setosa', 'versicolor', 'virginica'], dtype='<U10')"
      ]
     },
     "execution_count": 5,
     "metadata": {},
     "output_type": "execute_result"
    }
   ],
   "source": [
    "names"
   ]
  },
  {
   "cell_type": "code",
   "execution_count": 6,
   "metadata": {},
   "outputs": [
    {
     "data": {
      "text/html": [
       "<div>\n",
       "<style scoped>\n",
       "    .dataframe tbody tr th:only-of-type {\n",
       "        vertical-align: middle;\n",
       "    }\n",
       "\n",
       "    .dataframe tbody tr th {\n",
       "        vertical-align: top;\n",
       "    }\n",
       "\n",
       "    .dataframe thead th {\n",
       "        text-align: right;\n",
       "    }\n",
       "</style>\n",
       "<table border=\"1\" class=\"dataframe\">\n",
       "  <thead>\n",
       "    <tr style=\"text-align: right;\">\n",
       "      <th></th>\n",
       "      <th>sepal length (cm)</th>\n",
       "      <th>sepal width (cm)</th>\n",
       "      <th>petal length (cm)</th>\n",
       "      <th>petal width (cm)</th>\n",
       "    </tr>\n",
       "  </thead>\n",
       "  <tbody>\n",
       "    <tr>\n",
       "      <th>0</th>\n",
       "      <td>5.1</td>\n",
       "      <td>3.5</td>\n",
       "      <td>1.4</td>\n",
       "      <td>0.2</td>\n",
       "    </tr>\n",
       "    <tr>\n",
       "      <th>1</th>\n",
       "      <td>4.9</td>\n",
       "      <td>3.0</td>\n",
       "      <td>1.4</td>\n",
       "      <td>0.2</td>\n",
       "    </tr>\n",
       "    <tr>\n",
       "      <th>2</th>\n",
       "      <td>4.7</td>\n",
       "      <td>3.2</td>\n",
       "      <td>1.3</td>\n",
       "      <td>0.2</td>\n",
       "    </tr>\n",
       "    <tr>\n",
       "      <th>3</th>\n",
       "      <td>4.6</td>\n",
       "      <td>3.1</td>\n",
       "      <td>1.5</td>\n",
       "      <td>0.2</td>\n",
       "    </tr>\n",
       "    <tr>\n",
       "      <th>4</th>\n",
       "      <td>5.0</td>\n",
       "      <td>3.6</td>\n",
       "      <td>1.4</td>\n",
       "      <td>0.2</td>\n",
       "    </tr>\n",
       "  </tbody>\n",
       "</table>\n",
       "</div>"
      ],
      "text/plain": [
       "   sepal length (cm)  sepal width (cm)  petal length (cm)  petal width (cm)\n",
       "0                5.1               3.5                1.4               0.2\n",
       "1                4.9               3.0                1.4               0.2\n",
       "2                4.7               3.2                1.3               0.2\n",
       "3                4.6               3.1                1.5               0.2\n",
       "4                5.0               3.6                1.4               0.2"
      ]
     },
     "execution_count": 6,
     "metadata": {},
     "output_type": "execute_result"
    }
   ],
   "source": [
    "df = pd.DataFrame(X,columns=feature_names)\n",
    "df.head()\n",
    "# df.tail()"
   ]
  },
  {
   "cell_type": "code",
   "execution_count": 7,
   "metadata": {},
   "outputs": [
    {
     "data": {
      "text/html": [
       "<div>\n",
       "<style scoped>\n",
       "    .dataframe tbody tr th:only-of-type {\n",
       "        vertical-align: middle;\n",
       "    }\n",
       "\n",
       "    .dataframe tbody tr th {\n",
       "        vertical-align: top;\n",
       "    }\n",
       "\n",
       "    .dataframe thead th {\n",
       "        text-align: right;\n",
       "    }\n",
       "</style>\n",
       "<table border=\"1\" class=\"dataframe\">\n",
       "  <thead>\n",
       "    <tr style=\"text-align: right;\">\n",
       "      <th></th>\n",
       "      <th>sepal length (cm)</th>\n",
       "      <th>sepal width (cm)</th>\n",
       "      <th>petal length (cm)</th>\n",
       "      <th>petal width (cm)</th>\n",
       "    </tr>\n",
       "  </thead>\n",
       "  <tbody>\n",
       "    <tr>\n",
       "      <th>145</th>\n",
       "      <td>6.7</td>\n",
       "      <td>3.0</td>\n",
       "      <td>5.2</td>\n",
       "      <td>2.3</td>\n",
       "    </tr>\n",
       "    <tr>\n",
       "      <th>146</th>\n",
       "      <td>6.3</td>\n",
       "      <td>2.5</td>\n",
       "      <td>5.0</td>\n",
       "      <td>1.9</td>\n",
       "    </tr>\n",
       "    <tr>\n",
       "      <th>147</th>\n",
       "      <td>6.5</td>\n",
       "      <td>3.0</td>\n",
       "      <td>5.2</td>\n",
       "      <td>2.0</td>\n",
       "    </tr>\n",
       "    <tr>\n",
       "      <th>148</th>\n",
       "      <td>6.2</td>\n",
       "      <td>3.4</td>\n",
       "      <td>5.4</td>\n",
       "      <td>2.3</td>\n",
       "    </tr>\n",
       "    <tr>\n",
       "      <th>149</th>\n",
       "      <td>5.9</td>\n",
       "      <td>3.0</td>\n",
       "      <td>5.1</td>\n",
       "      <td>1.8</td>\n",
       "    </tr>\n",
       "  </tbody>\n",
       "</table>\n",
       "</div>"
      ],
      "text/plain": [
       "     sepal length (cm)  sepal width (cm)  petal length (cm)  petal width (cm)\n",
       "145                6.7               3.0                5.2               2.3\n",
       "146                6.3               2.5                5.0               1.9\n",
       "147                6.5               3.0                5.2               2.0\n",
       "148                6.2               3.4                5.4               2.3\n",
       "149                5.9               3.0                5.1               1.8"
      ]
     },
     "execution_count": 7,
     "metadata": {},
     "output_type": "execute_result"
    }
   ],
   "source": [
    "df.tail()"
   ]
  },
  {
   "cell_type": "code",
   "execution_count": 8,
   "metadata": {},
   "outputs": [],
   "source": [
    "scaler = StandardScaler()\n",
    "X_scaled = scaler.fit_transform(df)\n",
    "\n",
    "# Split the data set into training and testing\n",
    "X_train, X_test, y_train, y_test = train_test_split(\n",
    "    X_scaled, y, test_size=0.2, random_state=2)"
   ]
  },
  {
   "cell_type": "code",
   "execution_count": 9,
   "metadata": {},
   "outputs": [
    {
     "name": "stdout",
     "output_type": "stream",
     "text": [
      "120\n",
      "4\n"
     ]
    }
   ],
   "source": [
    "print(X_train.shape[0])\n",
    "print(X_train.shape[1])"
   ]
  },
  {
   "cell_type": "code",
   "execution_count": 10,
   "metadata": {},
   "outputs": [],
   "source": [
    "#ANN\n",
    "import torch                     # use to convert numpy array to pytorch tensor\n",
    "import torch.nn.functional as F  # use to get activation function\n",
    "import torch.nn as nn            # use to design neural network\n",
    "from torch.autograd import Variable  # use to convert numpy array to pytorch tensor\n",
    "\n",
    "class Model(nn.Module):         # class Model is inherited from base class Module\n",
    "    def __init__(self, input_dim):\n",
    "        super(Model, self).__init__()\n",
    "        self.layer1 = nn.Linear(input_dim, 50)   # Hidden layer1 with 50 neurons \n",
    "        self.layer2 = nn.Linear(50, 50)         #  Hidden layer2 with 50 neurons   \n",
    "        self.layer3 = nn.Linear(50, 3)          # Output layer1 with 3 neurons\n",
    "        \n",
    "    def forward(self, x):\n",
    "        x = F.relu(self.layer1(x))\n",
    "        x = F.relu(self.layer2(x))\n",
    "        x = F.softmax(self.layer3(x))               #dim=1\n",
    "        return x\n",
    "    \n",
    "model     = Model(X_train.shape[1])\n",
    "optimizer = torch.optim.Adam(model.parameters(), lr=0.001)\n",
    "loss_fn   = nn.CrossEntropyLoss()"
   ]
  },
  {
   "cell_type": "code",
   "execution_count": 11,
   "metadata": {},
   "outputs": [
    {
     "data": {
      "text/plain": [
       "Model(\n",
       "  (layer1): Linear(in_features=4, out_features=50, bias=True)\n",
       "  (layer2): Linear(in_features=50, out_features=50, bias=True)\n",
       "  (layer3): Linear(in_features=50, out_features=3, bias=True)\n",
       ")"
      ]
     },
     "execution_count": 11,
     "metadata": {},
     "output_type": "execute_result"
    }
   ],
   "source": [
    "model"
   ]
  },
  {
   "cell_type": "code",
   "execution_count": 12,
   "metadata": {},
   "outputs": [],
   "source": [
    "# X_train"
   ]
  },
  {
   "cell_type": "code",
   "execution_count": 13,
   "metadata": {},
   "outputs": [
    {
     "name": "stderr",
     "output_type": "stream",
     "text": [
      "  0%|          | 0/100 [00:00<?, ?it/s]/usr/local/lib/python3.7/site-packages/ipykernel_launcher.py:17: UserWarning: Implicit dimension choice for softmax has been deprecated. Change the call to include dim=X as an argument.\n",
      "100%|██████████| 100/100 [00:00<00:00, 247.37it/s]\n"
     ]
    }
   ],
   "source": [
    "import tqdm\n",
    "\n",
    "EPOCHS  = 100\n",
    "\n",
    "X_train = Variable(torch.from_numpy(X_train)).float()\n",
    "y_train = Variable(torch.from_numpy(y_train)).long()\n",
    "X_test  = Variable(torch.from_numpy(X_test)).float()\n",
    "y_test  = Variable(torch.from_numpy(y_test)).long()\n",
    "\n",
    "loss_list     = np.zeros((EPOCHS,))\n",
    "accuracy_list = np.zeros((EPOCHS,))\n",
    "\n",
    "for epoch in tqdm.trange(EPOCHS):\n",
    "    y_pred = model(X_train)\n",
    "    loss = loss_fn(y_pred, y_train)\n",
    "    loss_list[epoch] = loss.item()\n",
    "    \n",
    "    # Zero gradients\n",
    "    optimizer.zero_grad()                     \n",
    "    loss.backward()\n",
    "    optimizer.step()                          # Update the weight\n",
    "     \n",
    "    with torch.no_grad():                     \n",
    "        y_pred = model(X_test)\n",
    "        correct = (torch.argmax(y_pred, dim=1) == y_test).type(torch.FloatTensor)\n",
    "        accuracy_list[epoch] = correct.mean()"
   ]
  },
  {
   "cell_type": "code",
   "execution_count": 14,
   "metadata": {},
   "outputs": [
    {
     "name": "stdout",
     "output_type": "stream",
     "text": [
      "Accuracy is 0.9333333373069763\n"
     ]
    }
   ],
   "source": [
    "print('Accuracy is', accuracy_list[99])"
   ]
  },
  {
   "cell_type": "code",
   "execution_count": 15,
   "metadata": {},
   "outputs": [
    {
     "name": "stdout",
     "output_type": "stream",
     "text": [
      "Loss is 0.6382278800010681\n"
     ]
    }
   ],
   "source": [
    "print('Loss is', loss_list[99])"
   ]
  },
  {
   "cell_type": "code",
   "execution_count": 16,
   "metadata": {},
   "outputs": [],
   "source": [
    "# To save the model\n",
    "torch.save(model,'iris.pt')"
   ]
  },
  {
   "cell_type": "code",
   "execution_count": 17,
   "metadata": {},
   "outputs": [],
   "source": [
    "from sklearn.metrics import classification_report"
   ]
  },
  {
   "cell_type": "code",
   "execution_count": 18,
   "metadata": {},
   "outputs": [
    {
     "name": "stdout",
     "output_type": "stream",
     "text": [
      "tensor([[6.7967e-03, 2.7582e-01, 7.1738e-01],\n",
      "        [9.7551e-01, 1.6931e-02, 7.5613e-03],\n",
      "        [3.7555e-02, 9.0916e-01, 5.3287e-02],\n",
      "        [1.7496e-03, 1.4717e-02, 9.8353e-01],\n",
      "        [4.7397e-02, 7.3874e-01, 2.1386e-01],\n",
      "        [9.9564e-01, 2.5889e-03, 1.7704e-03],\n",
      "        [1.0152e-03, 2.5301e-02, 9.7368e-01],\n",
      "        [2.0750e-02, 7.3658e-01, 2.4267e-01],\n",
      "        [2.0338e-03, 9.6649e-01, 3.1475e-02],\n",
      "        [2.1757e-03, 2.3706e-02, 9.7412e-01],\n",
      "        [1.7325e-02, 6.9321e-01, 2.8947e-01],\n",
      "        [1.2558e-02, 8.8334e-01, 1.0411e-01],\n",
      "        [1.2137e-03, 1.1118e-02, 9.8767e-01],\n",
      "        [4.6973e-03, 9.8518e-01, 1.0121e-02],\n",
      "        [9.9309e-01, 4.3306e-03, 2.5744e-03],\n",
      "        [2.7617e-03, 6.2693e-01, 3.7031e-01],\n",
      "        [9.8732e-01, 8.6925e-03, 3.9837e-03],\n",
      "        [1.4932e-02, 8.3054e-01, 1.5453e-01],\n",
      "        [9.9260e-01, 4.5724e-03, 2.8240e-03],\n",
      "        [9.9071e-01, 5.8966e-03, 3.3925e-03],\n",
      "        [9.8533e-01, 1.0038e-02, 4.6299e-03],\n",
      "        [1.0759e-02, 7.7212e-01, 2.1712e-01],\n",
      "        [7.5603e-03, 2.8614e-02, 9.6383e-01],\n",
      "        [3.8097e-03, 4.7442e-02, 9.4875e-01],\n",
      "        [9.7479e-01, 1.8666e-02, 6.5429e-03],\n",
      "        [1.1213e-03, 9.7060e-03, 9.8917e-01],\n",
      "        [4.1117e-03, 1.5445e-02, 9.8044e-01],\n",
      "        [3.0328e-04, 1.8171e-02, 9.8153e-01],\n",
      "        [8.7274e-04, 8.1158e-01, 1.8755e-01],\n",
      "        [9.9093e-01, 6.9932e-03, 2.0777e-03],\n",
      "        [9.7332e-01, 2.1397e-02, 5.2820e-03],\n",
      "        [4.8063e-03, 1.9403e-01, 8.0116e-01],\n",
      "        [1.4386e-02, 9.2063e-01, 6.4988e-02],\n",
      "        [2.0168e-02, 9.1613e-01, 6.3697e-02],\n",
      "        [3.1975e-04, 1.2980e-02, 9.8670e-01],\n",
      "        [4.0201e-03, 2.5999e-01, 7.3599e-01],\n",
      "        [1.0109e-02, 9.2317e-01, 6.6722e-02],\n",
      "        [9.9481e-01, 2.8602e-03, 2.3285e-03],\n",
      "        [1.2900e-02, 8.7925e-01, 1.0785e-01],\n",
      "        [9.9589e-01, 2.2755e-03, 1.8364e-03],\n",
      "        [1.9969e-03, 2.3674e-02, 9.7433e-01],\n",
      "        [5.2282e-03, 9.6156e-01, 3.3213e-02],\n",
      "        [2.0179e-02, 9.5922e-01, 2.0600e-02],\n",
      "        [9.8963e-01, 6.3086e-03, 4.0596e-03],\n",
      "        [2.8748e-03, 9.8537e-01, 1.1752e-02],\n",
      "        [3.3042e-02, 7.4780e-01, 2.1915e-01],\n",
      "        [1.4730e-02, 6.7280e-01, 3.1247e-01],\n",
      "        [1.7215e-04, 2.8371e-02, 9.7146e-01],\n",
      "        [9.4988e-01, 4.3069e-02, 7.0533e-03],\n",
      "        [4.2456e-02, 4.9194e-01, 4.6561e-01],\n",
      "        [9.9642e-01, 1.9333e-03, 1.6478e-03],\n",
      "        [8.0250e-03, 9.5963e-01, 3.2348e-02],\n",
      "        [1.4180e-03, 1.3144e-02, 9.8544e-01],\n",
      "        [9.7088e-01, 2.4049e-02, 5.0687e-03],\n",
      "        [7.7935e-04, 9.9441e-01, 4.8121e-03],\n",
      "        [9.6924e-01, 2.5022e-02, 5.7394e-03],\n",
      "        [9.9359e-01, 3.7622e-03, 2.6482e-03],\n",
      "        [9.9301e-01, 4.1027e-03, 2.8830e-03],\n",
      "        [1.7650e-03, 3.7279e-02, 9.6096e-01],\n",
      "        [1.4350e-03, 6.2168e-03, 9.9235e-01],\n",
      "        [9.8857e-01, 7.1191e-03, 4.3083e-03],\n",
      "        [9.9850e-01, 7.7094e-04, 7.3107e-04],\n",
      "        [1.6986e-03, 2.0740e-01, 7.9090e-01],\n",
      "        [3.9240e-05, 6.8148e-03, 9.9315e-01],\n",
      "        [7.0375e-04, 9.8894e-01, 1.0359e-02],\n",
      "        [1.3849e-03, 6.9455e-03, 9.9167e-01],\n",
      "        [1.1954e-02, 9.7321e-01, 1.4839e-02],\n",
      "        [7.6548e-03, 8.8701e-01, 1.0534e-01],\n",
      "        [3.8853e-03, 7.4353e-02, 9.2176e-01],\n",
      "        [9.9199e-01, 4.8102e-03, 3.2004e-03],\n",
      "        [5.1542e-04, 6.9435e-02, 9.3005e-01],\n",
      "        [1.2894e-02, 2.3113e-01, 7.5597e-01],\n",
      "        [2.0043e-03, 1.2530e-01, 8.7270e-01],\n",
      "        [9.7293e-01, 2.2765e-02, 4.3068e-03],\n",
      "        [8.3330e-03, 1.7366e-01, 8.1800e-01],\n",
      "        [9.8888e-01, 7.4685e-03, 3.6545e-03],\n",
      "        [9.8704e-01, 9.1812e-03, 3.7770e-03],\n",
      "        [7.4875e-03, 9.7534e-01, 1.7168e-02],\n",
      "        [2.4226e-03, 4.1114e-02, 9.5646e-01],\n",
      "        [5.8815e-03, 9.4788e-01, 4.6239e-02],\n",
      "        [6.3855e-03, 5.2484e-01, 4.6878e-01],\n",
      "        [1.3081e-02, 7.9584e-01, 1.9108e-01],\n",
      "        [4.5614e-03, 7.6566e-01, 2.2978e-01],\n",
      "        [8.5886e-03, 8.7481e-02, 9.0393e-01],\n",
      "        [1.0879e-02, 6.4431e-01, 3.4481e-01],\n",
      "        [2.7503e-03, 9.8303e-01, 1.4222e-02],\n",
      "        [3.7892e-02, 7.1490e-01, 2.4721e-01],\n",
      "        [1.5563e-02, 2.7165e-01, 7.1279e-01],\n",
      "        [5.7624e-03, 4.7764e-01, 5.1659e-01],\n",
      "        [4.8063e-03, 1.9403e-01, 8.0116e-01],\n",
      "        [3.4828e-02, 2.7568e-01, 6.8950e-01],\n",
      "        [9.9655e-01, 1.8754e-03, 1.5747e-03],\n",
      "        [9.5958e-04, 8.5513e-01, 1.4391e-01],\n",
      "        [4.4149e-02, 8.7252e-01, 8.3327e-02],\n",
      "        [3.8850e-03, 9.7774e-01, 1.8376e-02],\n",
      "        [6.7659e-03, 9.7141e-01, 2.1825e-02],\n",
      "        [6.5668e-03, 1.2848e-01, 8.6496e-01],\n",
      "        [7.4968e-03, 8.6107e-01, 1.3143e-01],\n",
      "        [9.9825e-01, 9.4562e-04, 8.0814e-04],\n",
      "        [9.8609e-01, 1.0856e-02, 3.0579e-03],\n",
      "        [3.4962e-03, 1.2542e-01, 8.7108e-01],\n",
      "        [3.2162e-02, 6.6777e-01, 3.0007e-01],\n",
      "        [7.5153e-04, 8.2765e-02, 9.1648e-01],\n",
      "        [9.9536e-01, 2.6602e-03, 1.9845e-03],\n",
      "        [9.2697e-04, 2.8128e-02, 9.7094e-01],\n",
      "        [9.9636e-01, 2.0953e-03, 1.5408e-03],\n",
      "        [4.2728e-03, 1.2167e-01, 8.7406e-01],\n",
      "        [3.6574e-03, 3.2874e-02, 9.6347e-01],\n",
      "        [9.7596e-01, 1.6749e-02, 7.2898e-03],\n",
      "        [1.3663e-02, 7.2992e-01, 2.5642e-01],\n",
      "        [9.9101e-01, 6.2965e-03, 2.6921e-03],\n",
      "        [1.6989e-03, 2.1762e-02, 9.7654e-01],\n",
      "        [3.3832e-02, 8.9998e-01, 6.6187e-02],\n",
      "        [9.9077e-01, 6.0448e-03, 3.1847e-03],\n",
      "        [1.2565e-03, 1.9125e-02, 9.7962e-01],\n",
      "        [1.2378e-02, 8.2993e-01, 1.5769e-01],\n",
      "        [9.9001e-01, 5.7017e-03, 4.2867e-03],\n",
      "        [9.9798e-01, 1.1020e-03, 9.1368e-04],\n",
      "        [2.4905e-03, 6.8252e-01, 3.1499e-01],\n",
      "        [9.9846e-01, 8.4300e-04, 7.0003e-04]], grad_fn=<SoftmaxBackward0>)\n"
     ]
    },
    {
     "name": "stderr",
     "output_type": "stream",
     "text": [
      "/usr/local/lib/python3.7/site-packages/ipykernel_launcher.py:17: UserWarning: Implicit dimension choice for softmax has been deprecated. Change the call to include dim=X as an argument.\n"
     ]
    }
   ],
   "source": [
    "train_pred = model(X_train)\n",
    "print(train_pred)"
   ]
  },
  {
   "cell_type": "code",
   "execution_count": 19,
   "metadata": {},
   "outputs": [
    {
     "name": "stderr",
     "output_type": "stream",
     "text": [
      "/usr/local/lib/python3.7/site-packages/ipykernel_launcher.py:17: UserWarning: Implicit dimension choice for softmax has been deprecated. Change the call to include dim=X as an argument.\n"
     ]
    }
   ],
   "source": [
    "train_pred = model(X_train).argmax(dim=1)"
   ]
  },
  {
   "cell_type": "code",
   "execution_count": 20,
   "metadata": {},
   "outputs": [
    {
     "data": {
      "text/plain": [
       "tensor([2, 0, 1, 2, 1, 0, 2, 1, 1, 2, 1, 1, 2, 1, 0, 1, 0, 1, 0, 0, 0, 1, 2, 2,\n",
       "        0, 2, 2, 2, 1, 0, 0, 2, 1, 1, 2, 2, 1, 0, 1, 0, 2, 1, 1, 0, 1, 1, 1, 2,\n",
       "        0, 1, 0, 1, 2, 0, 1, 0, 0, 0, 2, 2, 0, 0, 2, 2, 1, 2, 1, 1, 2, 0, 2, 2,\n",
       "        2, 0, 2, 0, 0, 1, 2, 1, 1, 1, 1, 2, 1, 1, 1, 2, 2, 2, 2, 0, 1, 1, 1, 1,\n",
       "        2, 1, 0, 0, 2, 1, 2, 0, 2, 0, 2, 2, 0, 1, 0, 2, 1, 0, 2, 1, 0, 0, 1, 0])"
      ]
     },
     "execution_count": 20,
     "metadata": {},
     "output_type": "execute_result"
    }
   ],
   "source": [
    "train_pred"
   ]
  },
  {
   "cell_type": "code",
   "execution_count": 21,
   "metadata": {},
   "outputs": [
    {
     "name": "stdout",
     "output_type": "stream",
     "text": [
      "              precision    recall  f1-score   support\n",
      "\n",
      "           0       1.00      1.00      1.00        36\n",
      "           1       0.91      0.95      0.93        42\n",
      "           2       0.95      0.90      0.93        42\n",
      "\n",
      "    accuracy                           0.95       120\n",
      "   macro avg       0.95      0.95      0.95       120\n",
      "weighted avg       0.95      0.95      0.95       120\n",
      "\n"
     ]
    }
   ],
   "source": [
    "print(classification_report(y_train,train_pred))"
   ]
  },
  {
   "cell_type": "code",
   "execution_count": 22,
   "metadata": {},
   "outputs": [
    {
     "name": "stderr",
     "output_type": "stream",
     "text": [
      "/usr/local/lib/python3.7/site-packages/ipykernel_launcher.py:17: UserWarning: Implicit dimension choice for softmax has been deprecated. Change the call to include dim=X as an argument.\n"
     ]
    }
   ],
   "source": [
    "test_pred = model(X_test).argmax(dim=1)"
   ]
  },
  {
   "cell_type": "code",
   "execution_count": 23,
   "metadata": {},
   "outputs": [
    {
     "data": {
      "text/plain": [
       "tensor([0, 0, 2, 0, 0, 2, 0, 2, 2, 0, 0, 0, 0, 0, 1, 1, 1, 1, 2, 1, 2, 1, 2, 1,\n",
       "        1, 0, 0, 2, 0, 2])"
      ]
     },
     "execution_count": 23,
     "metadata": {},
     "output_type": "execute_result"
    }
   ],
   "source": [
    "test_pred"
   ]
  },
  {
   "cell_type": "code",
   "execution_count": 24,
   "metadata": {},
   "outputs": [
    {
     "name": "stdout",
     "output_type": "stream",
     "text": [
      "              precision    recall  f1-score   support\n",
      "\n",
      "           0       1.00      0.93      0.96        14\n",
      "           1       0.88      0.88      0.88         8\n",
      "           2       0.89      1.00      0.94         8\n",
      "\n",
      "    accuracy                           0.93        30\n",
      "   macro avg       0.92      0.93      0.93        30\n",
      "weighted avg       0.94      0.93      0.93        30\n",
      "\n"
     ]
    }
   ],
   "source": [
    "print(classification_report(y_test,test_pred))"
   ]
  },
  {
   "cell_type": "code",
   "execution_count": null,
   "metadata": {},
   "outputs": [],
   "source": []
  }
 ],
 "metadata": {
  "kernelspec": {
   "display_name": "Python 3",
   "language": "python",
   "name": "python3"
  },
  "language_info": {
   "codemirror_mode": {
    "name": "ipython",
    "version": 3
   },
   "file_extension": ".py",
   "mimetype": "text/x-python",
   "name": "python",
   "nbconvert_exporter": "python",
   "pygments_lexer": "ipython3",
   "version": "3.7.6"
  }
 },
 "nbformat": 4,
 "nbformat_minor": 4
}
